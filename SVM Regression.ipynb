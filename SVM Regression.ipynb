{
 "cells": [
  {
   "cell_type": "code",
   "execution_count": 1,
   "id": "dressed-crowd",
   "metadata": {},
   "outputs": [],
   "source": [
    "#sklearn is a machine learning library in python\n",
    "from sklearn.neighbors import NearestNeighbors, KNeighborsClassifier, KNeighborsRegressor\n",
    "from sklearn.metrics import mean_squared_error, r2_score\n",
    "from sklearn.model_selection import cross_val_predict\n",
    "import numpy as np\n",
    "from sklearn.model_selection import train_test_split\n",
    "import pandas as pd\n",
    "from sklearn.decomposition import PCA"
   ]
  },
  {
   "cell_type": "code",
   "execution_count": 2,
   "id": "artistic-cowboy",
   "metadata": {},
   "outputs": [],
   "source": [
    "train = pd.read_csv(\"train_KWH.csv\")\n",
    "train = train[train[\"month\"] == 1]\n",
    "train_y = train.pop(\"hourly_kwh\")\n",
    "train_X = train[[\"humidity\",\"apparent_temperature\",\"pressure\",\"wind_bearing\",\"hourly_solar_kWh\"]]"
   ]
  },
  {
   "cell_type": "code",
   "execution_count": 3,
   "id": "backed-significance",
   "metadata": {},
   "outputs": [],
   "source": [
    "pca = PCA(n_components=4)\n",
    "test = pd.read_csv(\"test_KWH2.csv\")[[\"humidity\",\"apparent_temperature\",\"pressure\",\"wind_bearing\",\"hourly_solar_kWh\"]]\n",
    "from sklearn.preprocessing import StandardScaler\n",
    "scaler = StandardScaler()\n",
    "scaler.fit(train_X)\n",
    "train_X_scaled = scaler.transform(train_X)\n",
    "\n",
    "test_scaled = scaler.transform(test)\n",
    "pca.fit(train_X_scaled)\n",
    "train_X_scaled = pca.transform(train_X_scaled)\n",
    "test_scaled = pca.transform(test_scaled)"
   ]
  },
  {
   "cell_type": "code",
   "execution_count": null,
   "id": "linear-working",
   "metadata": {},
   "outputs": [],
   "source": []
  },
  {
   "cell_type": "code",
   "execution_count": 4,
   "id": "prostate-region",
   "metadata": {},
   "outputs": [],
   "source": [
    "from sklearn.svm import SVR\n",
    "from sklearn.model_selection import GridSearchCV\n",
    "\n",
    "svr = SVR(kernel='rbf', C = 1000, gamma = 1) \n",
    "svr.fit(train_X_scaled, train_y)\n",
    "y_pred = svr.predict(test_scaled)\n",
    "pd.DataFrame(y_pred).to_csv(\"preds.kwh\", index=False, header = False)"
   ]
  },
  {
   "cell_type": "code",
   "execution_count": 5,
   "id": "according-petersburg",
   "metadata": {},
   "outputs": [
    {
     "data": {
      "text/html": [
       "<div>\n",
       "<style scoped>\n",
       "    .dataframe tbody tr th:only-of-type {\n",
       "        vertical-align: middle;\n",
       "    }\n",
       "\n",
       "    .dataframe tbody tr th {\n",
       "        vertical-align: top;\n",
       "    }\n",
       "\n",
       "    .dataframe thead th {\n",
       "        text-align: right;\n",
       "    }\n",
       "</style>\n",
       "<table border=\"1\" class=\"dataframe\">\n",
       "  <thead>\n",
       "    <tr style=\"text-align: right;\">\n",
       "      <th></th>\n",
       "      <th>humidity</th>\n",
       "      <th>apparent_temperature</th>\n",
       "      <th>pressure</th>\n",
       "      <th>wind_bearing</th>\n",
       "      <th>hourly_solar_kWh</th>\n",
       "    </tr>\n",
       "  </thead>\n",
       "  <tbody>\n",
       "    <tr>\n",
       "      <th>count</th>\n",
       "      <td>2930.000000</td>\n",
       "      <td>2930.000000</td>\n",
       "      <td>2930.000000</td>\n",
       "      <td>2930.000000</td>\n",
       "      <td>2930.000000</td>\n",
       "    </tr>\n",
       "    <tr>\n",
       "      <th>mean</th>\n",
       "      <td>0.686355</td>\n",
       "      <td>50.247573</td>\n",
       "      <td>1021.595038</td>\n",
       "      <td>182.284983</td>\n",
       "      <td>0.501862</td>\n",
       "    </tr>\n",
       "    <tr>\n",
       "      <th>std</th>\n",
       "      <td>0.224873</td>\n",
       "      <td>13.356474</td>\n",
       "      <td>7.990496</td>\n",
       "      <td>111.323984</td>\n",
       "      <td>0.888603</td>\n",
       "    </tr>\n",
       "    <tr>\n",
       "      <th>min</th>\n",
       "      <td>0.080000</td>\n",
       "      <td>7.560000</td>\n",
       "      <td>997.440000</td>\n",
       "      <td>0.000000</td>\n",
       "      <td>-0.016136</td>\n",
       "    </tr>\n",
       "    <tr>\n",
       "      <th>25%</th>\n",
       "      <td>0.512500</td>\n",
       "      <td>41.037500</td>\n",
       "      <td>1016.432500</td>\n",
       "      <td>105.250000</td>\n",
       "      <td>-0.005131</td>\n",
       "    </tr>\n",
       "    <tr>\n",
       "      <th>50%</th>\n",
       "      <td>0.720000</td>\n",
       "      <td>52.080000</td>\n",
       "      <td>1021.205000</td>\n",
       "      <td>177.000000</td>\n",
       "      <td>-0.004375</td>\n",
       "    </tr>\n",
       "    <tr>\n",
       "      <th>75%</th>\n",
       "      <td>0.890000</td>\n",
       "      <td>60.035000</td>\n",
       "      <td>1026.722500</td>\n",
       "      <td>291.000000</td>\n",
       "      <td>0.576912</td>\n",
       "    </tr>\n",
       "    <tr>\n",
       "      <th>max</th>\n",
       "      <td>1.000000</td>\n",
       "      <td>75.420000</td>\n",
       "      <td>1043.500000</td>\n",
       "      <td>359.000000</td>\n",
       "      <td>3.620875</td>\n",
       "    </tr>\n",
       "  </tbody>\n",
       "</table>\n",
       "</div>"
      ],
      "text/plain": [
       "          humidity  apparent_temperature     pressure  wind_bearing  \\\n",
       "count  2930.000000           2930.000000  2930.000000   2930.000000   \n",
       "mean      0.686355             50.247573  1021.595038    182.284983   \n",
       "std       0.224873             13.356474     7.990496    111.323984   \n",
       "min       0.080000              7.560000   997.440000      0.000000   \n",
       "25%       0.512500             41.037500  1016.432500    105.250000   \n",
       "50%       0.720000             52.080000  1021.205000    177.000000   \n",
       "75%       0.890000             60.035000  1026.722500    291.000000   \n",
       "max       1.000000             75.420000  1043.500000    359.000000   \n",
       "\n",
       "       hourly_solar_kWh  \n",
       "count       2930.000000  \n",
       "mean           0.501862  \n",
       "std            0.888603  \n",
       "min           -0.016136  \n",
       "25%           -0.005131  \n",
       "50%           -0.004375  \n",
       "75%            0.576912  \n",
       "max            3.620875  "
      ]
     },
     "execution_count": 5,
     "metadata": {},
     "output_type": "execute_result"
    }
   ],
   "source": [
    "train_X.describe()"
   ]
  },
  {
   "cell_type": "code",
   "execution_count": 6,
   "id": "still-account",
   "metadata": {},
   "outputs": [
    {
     "data": {
      "text/plain": [
       "<AxesSubplot:title={'center':'humidity'}>"
      ]
     },
     "execution_count": 6,
     "metadata": {},
     "output_type": "execute_result"
    },
    {
     "data": {
      "image/png": "[encoded data removed]",
      "text/plain": [
       "<Figure size 432x288 with 1 Axes>"
      ]
     },
     "metadata": {
      "needs_background": "light"
     },
     "output_type": "display_data"
    }
   ],
   "source": [
    "import matplotlib.pyplot as plt\n",
    "probs = []\n",
    "for j in range(11):\n",
    "    train_mod = train_X\n",
    "    train_mod = train_mod.assign(humidity = j/10)\n",
    "    train_mod = scaler.transform(train_mod)\n",
    "    train_mod = pca.transform(train_mod)\n",
    "    this_prob = []\n",
    "    data = svr.predict(train_mod)\n",
    "    for i in range(156):\n",
    "        this_prob.append(data[i])\n",
    "    probs.append(np.mean(this_prob))\n",
    "\n",
    "data = pd.Series(probs, index = range(11))\n",
    "ind = data.index/10\n",
    "data.index = ind\n",
    "data.plot(title = 'humidity')"
   ]
  },
  {
   "cell_type": "code",
   "execution_count": 7,
   "id": "designed-cathedral",
   "metadata": {},
   "outputs": [
    {
     "data": {
      "text/plain": [
       "<AxesSubplot:title={'center':'apparent_temperature'}>"
      ]
     },
     "execution_count": 7,
     "metadata": {},
     "output_type": "execute_result"
    },
    {
     "data": {
      "image/png": "[encoded data removed]",
      "text/plain": [
       "<Figure size 432x288 with 1 Axes>"
      ]
     },
     "metadata": {
      "needs_background": "light"
     },
     "output_type": "display_data"
    }
   ],
   "source": [
    "import matplotlib.pyplot as plt\n",
    "probs = []\n",
    "for j in range(40,80,5):\n",
    "    train_mod = train_X\n",
    "    train_mod = train_mod.assign(apparent_temperature = j)\n",
    "    train_mod = scaler.transform(train_mod)\n",
    "    train_mod = pca.transform(train_mod)\n",
    "    this_prob = []\n",
    "    data = svr.predict(train_mod)\n",
    "    for i in range(156):\n",
    "        this_prob.append(data[i])\n",
    "    probs.append(np.mean(this_prob))\n",
    "\n",
    "data = pd.Series(probs, index = range(40,80,5))\n",
    "data.plot(title = 'apparent_temperature')"
   ]
  },
  {
   "cell_type": "code",
   "execution_count": null,
   "id": "equivalent-theta",
   "metadata": {},
   "outputs": [],
   "source": []
  },
  {
   "cell_type": "code",
   "execution_count": 8,
   "id": "elementary-bosnia",
   "metadata": {},
   "outputs": [
    {
     "data": {
      "text/plain": [
       "<AxesSubplot:title={'center':'pressure'}>"
      ]
     },
     "execution_count": 8,
     "metadata": {},
     "output_type": "execute_result"
    },
    {
     "data": {
      "image/png": "[encoded data removed]",
      "text/plain": [
       "<Figure size 432x288 with 1 Axes>"
      ]
     },
     "metadata": {
      "needs_background": "light"
     },
     "output_type": "display_data"
    }
   ],
   "source": [
    "import matplotlib.pyplot as plt\n",
    "probs = []\n",
    "for j in range(1000, 1050, 10):\n",
    "    train_mod = train_X\n",
    "    train_mod = train_mod.assign(pressure = j)\n",
    "    train_mod = scaler.transform(train_mod)\n",
    "    train_mod = pca.transform(train_mod)\n",
    "    this_prob = []\n",
    "    data = svr.predict(train_mod)\n",
    "    for i in range(156):\n",
    "        this_prob.append(data[i])\n",
    "    probs.append(np.mean(this_prob))\n",
    "\n",
    "data = pd.Series(probs, index = range(1000, 1050, 10))\n",
    "data.plot(title = 'pressure')"
   ]
  },
  {
   "cell_type": "code",
   "execution_count": 9,
   "id": "flying-throw",
   "metadata": {},
   "outputs": [
    {
     "data": {
      "text/plain": [
       "<AxesSubplot:title={'center':'wind_bearing'}>"
      ]
     },
     "execution_count": 9,
     "metadata": {},
     "output_type": "execute_result"
    },
    {
     "data": {
      "image/png": "[encoded data removed]",
      "text/plain": [
       "<Figure size 432x288 with 1 Axes>"
      ]
     },
     "metadata": {
      "needs_background": "light"
     },
     "output_type": "display_data"
    }
   ],
   "source": [
    "import matplotlib.pyplot as plt\n",
    "probs = []\n",
    "for j in range(0, 350, 50):\n",
    "    train_mod = train_X\n",
    "    train_mod = train_mod.assign(wind_bearing = j)\n",
    "    train_mod = scaler.transform(train_mod)\n",
    "    train_mod = pca.transform(train_mod)\n",
    "    this_prob = []\n",
    "    data = svr.predict(train_mod)\n",
    "    for i in range(156):\n",
    "        this_prob.append(data[i])\n",
    "    probs.append(np.mean(this_prob))\n",
    "\n",
    "data = pd.Series(probs, index = range(0, 350, 50))\n",
    "data.plot(title = 'wind_bearing')"
   ]
  },
  {
   "cell_type": "code",
   "execution_count": 10,
   "id": "moral-european",
   "metadata": {},
   "outputs": [
    {
     "data": {
      "text/plain": [
       "<AxesSubplot:title={'center':'hourly_solar_kWh'}>"
      ]
     },
     "execution_count": 10,
     "metadata": {},
     "output_type": "execute_result"
    },
    {
     "data": {
      "image/png": "[encoded data removed]",
      "text/plain": [
       "<Figure size 432x288 with 1 Axes>"
      ]
     },
     "metadata": {
      "needs_background": "light"
     },
     "output_type": "display_data"
    }
   ],
   "source": [
    "import matplotlib.pyplot as plt\n",
    "probs = []\n",
    "for j in range(-1, 360, 40):\n",
    "    train_mod = train_X\n",
    "    train_mod = train_mod.assign(hourly_solar_kWh = j/100)\n",
    "    train_mod = scaler.transform(train_mod)\n",
    "    train_mod = pca.transform(train_mod)\n",
    "    this_prob = []\n",
    "    data = svr.predict(train_mod)\n",
    "    for i in range(156):\n",
    "        this_prob.append(data[i])\n",
    "    probs.append(np.mean(this_prob))\n",
    "\n",
    "data = pd.Series(probs, index = range(-1, 360, 40))\n",
    "ind = data.index/100\n",
    "data.index = ind\n",
    "data.plot(title = 'hourly_solar_kWh')"
   ]
  },
  {
   "cell_type": "code",
   "execution_count": null,
   "id": "documentary-hypothesis",
   "metadata": {},
   "outputs": [],
   "source": []
  }
 ],
 "metadata": {
  "kernelspec": {
   "display_name": "Python 3",
   "language": "python",
   "name": "python3"
  },
  "language_info": {
   "codemirror_mode": {
    "name": "ipython",
    "version": 3
   },
   "file_extension": ".py",
   "mimetype": "text/x-python",
   "name": "python",
   "nbconvert_exporter": "python",
   "pygments_lexer": "ipython3",
   "version": "3.8.8"
  }
 },
 "nbformat": 4,
 "nbformat_minor": 5
}
